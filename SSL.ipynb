{
  "nbformat": 4,
  "nbformat_minor": 0,
  "metadata": {
    "colab": {
      "name": "SSL.ipynb",
      "provenance": [],
      "collapsed_sections": [],
      "authorship_tag": "ABX9TyOvQpNZNtMAhkuLdWOZvCn1",
      "include_colab_link": true
    },
    "kernelspec": {
      "name": "python3",
      "display_name": "Python 3"
    },
    "accelerator": "GPU"
  },
  "cells": [
    {
      "cell_type": "markdown",
      "metadata": {
        "id": "view-in-github",
        "colab_type": "text"
      },
      "source": [
        "<a href=\"https://colab.research.google.com/github/polrib/NeuralNetworksCourse/blob/main/SSL.ipynb\" target=\"_parent\"><img src=\"https://colab.research.google.com/assets/colab-badge.svg\" alt=\"Open In Colab\"/></a>"
      ]
    },
    {
      "cell_type": "markdown",
      "metadata": {
        "id": "nI1uysWrQQvH"
      },
      "source": [
        "### **Neural Networks for Data Science Aplications**\n",
        "\n",
        "Reference Paper: **Learning Structured Sparsity in Deep Neural\n",
        "Networks**\n",
        "\n",
        "#### Motivation of the paper:\n",
        "The aim of the paper is to propose a regularization method called Structured Sparsity Learning (SSL) that regularizes filters, channels, filter shapes, and layer depth) of DNNs. SSL advantages are first to learn a compact structure from a bigger DNN in order to reduce computation cost; and obtain a hardware-friendly structured sparsity of DNN to efficiently accelerate\n",
        "the DNN’s evaluation."
      ]
    },
    {
      "cell_type": "markdown",
      "metadata": {
        "id": "6wSQGOtCRoaE"
      },
      "source": [
        "### SETUP"
      ]
    },
    {
      "cell_type": "code",
      "metadata": {
        "id": "MFzl6h9pmzwd"
      },
      "source": [
        "import tensorflow as tf\n",
        "import numpy as np\n",
        "from sklearn.utils import shuffle\n",
        "from sklearn.model_selection import train_test_split\n",
        "import time\n",
        "import matplotlib.pyplot as plt\n",
        "from keras import regularizers\n",
        "from tensorflow import keras\n",
        "from sklearn.metrics import mean_squared_error\n",
        "import matplotlib.pyplot as plt\n",
        "from keras.regularizers import Regularizer\n",
        "from keras import backend as K\n",
        "from keras.constraints import Constraint"
      ],
      "execution_count": null,
      "outputs": []
    },
    {
      "cell_type": "code",
      "metadata": {
        "id": "uxHrDDyXm_1F",
        "colab": {
          "base_uri": "https://localhost:8080/",
          "height": 51
        },
        "outputId": "0017ed95-25d6-4471-8e85-98a1ffbd93c1"
      },
      "source": [
        "from tensorflow.keras.datasets import mnist\n",
        "(X_train, Y_train), (X_test, Y_test) = mnist.load_data()"
      ],
      "execution_count": null,
      "outputs": [
        {
          "output_type": "stream",
          "text": [
            "Downloading data from https://storage.googleapis.com/tensorflow/tf-keras-datasets/mnist.npz\n",
            "11493376/11490434 [==============================] - 0s 0us/step\n"
          ],
          "name": "stdout"
        }
      ]
    },
    {
      "cell_type": "code",
      "metadata": {
        "id": "GG2R7pAMu6tn"
      },
      "source": [
        "(X_train_full, y_train_full), (X_test, y_test) = keras.datasets.mnist.load_data()\n",
        "X_train_full = X_train_full.astype(np.float32) / 255.\n",
        "X_valid, X_train = X_train_full[:5000], X_train_full[5000:]\n",
        "y_valid, y_train = y_train_full[:5000], y_train_full[5000:]\n",
        "X_test = X_test.astype(np.float32) / 255."
      ],
      "execution_count": null,
      "outputs": []
    },
    {
      "cell_type": "code",
      "metadata": {
        "id": "WMjBVrGpR989",
        "colab": {
          "base_uri": "https://localhost:8080/",
          "height": 282
        },
        "outputId": "6f990b83-0888-4868-a186-69cad7fc0fe0"
      },
      "source": [
        "plt.imshow(X_train[0], cmap='binary')"
      ],
      "execution_count": null,
      "outputs": [
        {
          "output_type": "execute_result",
          "data": {
            "text/plain": [
              "<matplotlib.image.AxesImage at 0x7fec68cf9978>"
            ]
          },
          "metadata": {
            "tags": []
          },
          "execution_count": 4
        },
        {
          "output_type": "display_data",
          "data": {
            "image/png": "[encoded data removed]",
            "text/plain": [
              "<Figure size 432x288 with 1 Axes>"
            ]
          },
          "metadata": {
            "tags": [],
            "needs_background": "light"
          }
        }
      ]
    },
    {
      "cell_type": "code",
      "metadata": {
        "id": "qCIMj9dG3RiT",
        "colab": {
          "base_uri": "https://localhost:8080/",
          "height": 34
        },
        "outputId": "b17996a8-9ff3-424b-f584-cf4b8f6e09af"
      },
      "source": [
        "X_train=X_train.reshape(X_train.shape[0],28,28,1)\n",
        "X_valid=X_valid.reshape(X_valid.shape[0],28,28,1)\n",
        "X_test=X_test.reshape(X_test.shape[0],28,28,1)\n",
        "\n",
        "print(\"Updated Image Shape: {}\".format(X_train[0].shape))"
      ],
      "execution_count": null,
      "outputs": [
        {
          "output_type": "stream",
          "text": [
            "Updated Image Shape: (28, 28, 1)\n"
          ],
          "name": "stdout"
        }
      ]
    },
    {
      "cell_type": "markdown",
      "metadata": {
        "id": "Uosr7jHgRwWX"
      },
      "source": [
        "### REGULARIZERS"
      ]
    },
    {
      "cell_type": "code",
      "metadata": {
        "id": "xpAiU6PBKGdc"
      },
      "source": [
        "class MyRegularizer(regularizers.Regularizer):\n",
        "\n",
        "    def __init__(self, strength=0.01):\n",
        "        self.strength = tf.keras.backend.cast(strength, dtype='float32')\n",
        "\n",
        "    def __call__(self, x):\n",
        "           return self.strength * tf.reduce_sum(tf.square(x))+self.strength*K.sum(K.sqrt(K.sum(K.square(x), axis=0)))\n",
        "          \n",
        "    def get_config(self):\n",
        "        return {'strength': float(self.strength)}\n",
        "    "
      ],
      "execution_count": null,
      "outputs": []
    },
    {
      "cell_type": "code",
      "metadata": {
        "id": "cndsXsbkblY5"
      },
      "source": [
        "class Penalizing(regularizers.Regularizer):\n",
        "\n",
        "    def __init__(self, strength=0.01):\n",
        "        self.strength = tf.keras.backend.cast(strength, dtype='float32')\n",
        "\n",
        "    def __call__(self, x):\n",
        "           return self.strength*K.sum(K.sqrt(K.sum(K.square(x), axis=3)))+self.strength*K.sum(K.sqrt(K.sum(K.square(x), axis=2)))\n",
        "          \n",
        "    def get_config(self):\n",
        "        return {'strength': float(self.strength)}"
      ],
      "execution_count": null,
      "outputs": []
    },
    {
      "cell_type": "code",
      "metadata": {
        "id": "hkqud4yLi08t"
      },
      "source": [
        "class Learning_shapes(regularizers.Regularizer):\n",
        "\n",
        "    def __init__(self, strength=0.01):\n",
        "        self.strength = tf.keras.backend.cast(strength, dtype='float32')\n",
        "\n",
        "    def __call__(self, x):\n",
        "           return self.strength*K.sum(K.sqrt(K.sum(K.square(x), axis=[0,1,2])))\n",
        "          \n",
        "    def get_config(self):\n",
        "        return {'strength': float(self.strength)}"
      ],
      "execution_count": null,
      "outputs": []
    },
    {
      "cell_type": "code",
      "metadata": {
        "id": "PLdO08lW9rr_"
      },
      "source": [
        "\n",
        "# Utility function to count active neurons in a Keras model with Dense layers\n",
        "def count_neurons(model):\n",
        "    return np.sum([np.sum(np.sum(np.abs(l.get_weights()[0]), axis=2) > 10**-3) \n",
        "                          for l in model.layers if 'conv' in l.name])\n",
        "\n",
        "# Callback class to save training loss and the number of neurons\n",
        "class History(keras.callbacks.Callback):\n",
        "\n",
        "    losses=[]\n",
        "    neurons=[]\n",
        "    def on_train_begin(self, logs={}):\n",
        "        self.losses = []\n",
        "        self.neurons = [count_neurons(self.model)]\n",
        "\n",
        "    def on_epoch_end(self, batch, logs={}):\n",
        "        self.losses.append(logs['loss'])\n",
        "        self.neurons.append(count_neurons(self.model))"
      ],
      "execution_count": null,
      "outputs": []
    },
    {
      "cell_type": "markdown",
      "metadata": {
        "id": "op8xQqXhSKLJ"
      },
      "source": [
        "### TRAINING"
      ]
    },
    {
      "cell_type": "code",
      "metadata": {
        "id": "HQ5ffx0gYbYo"
      },
      "source": [
        "n_epochs = 15\n",
        "batch_size = 64\n",
        "n_steps = len(X_train) // batch_size\n",
        "loss_fn = keras.losses.sparse_categorical_crossentropy\n",
        "optimizer = keras.optimizers.Adam(lr=0.01)\n",
        "initializer=tf.keras.initializers.GlorotNormal()\n",
        "bias_filler=tf.keras.initializers.constant()"
      ],
      "execution_count": null,
      "outputs": []
    },
    {
      "cell_type": "code",
      "metadata": {
        "id": "irjVxs0S7Z6s"
      },
      "source": [
        "baseline_model = keras.models.Sequential([\n",
        "    keras.layers.Conv2D(filters=20, kernel_size=(5, 5), activation='relu', input_shape=(28,28,1)),\n",
        "    keras.layers.AveragePooling2D(),\n",
        "    keras.layers.Conv2D(filters=50, kernel_size=(5, 5), activation='relu'),\n",
        "    keras.layers.AveragePooling2D(),\n",
        "    keras.layers.Flatten(input_shape=[28, 28]),\n",
        "    keras.layers.Dense(500, activation=\"relu\"),\n",
        "    keras.layers.Dense(10, activation=\"softmax\"),\n",
        "])"
      ],
      "execution_count": null,
      "outputs": []
    },
    {
      "cell_type": "code",
      "metadata": {
        "id": "R4GhuYPJ1lcI"
      },
      "source": [
        "l2_model = keras.models.Sequential([\n",
        "    keras.layers.Conv2D(filters=20, kernel_size=(5, 5), activation='relu', input_shape=(28,28,1), kernel_regularizer=regularizers.l2(0.001)),\n",
        "    keras.layers.AveragePooling2D(),\n",
        "    keras.layers.Conv2D(filters=50, kernel_size=(5, 5), activation='relu', kernel_regularizer=regularizers.l2(0.001)),\n",
        "    keras.layers.AveragePooling2D(),\n",
        "    keras.layers.Flatten(input_shape=[28, 28]),\n",
        "    keras.layers.Dense(500, activation=\"relu\"),\n",
        "    keras.layers.Dense(10, activation=\"softmax\"),\n",
        "])"
      ],
      "execution_count": null,
      "outputs": []
    },
    {
      "cell_type": "code",
      "metadata": {
        "id": "0CnZdTsM-GGm"
      },
      "source": [
        "gl_model = keras.models.Sequential([\n",
        "    #tf.keras.layers.Masking(mask_value=0.0,input_shape=(28,28,1)),\n",
        "    keras.layers.Conv2D(filters=20, kernel_size=(5, 5), activation='relu', input_shape=(28,28,1), kernel_regularizer=MyRegularizer(0.001), kernel_initializer=initializer, bias_initializer=bias_filler),\n",
        "    keras.layers.AveragePooling2D(),\n",
        "    #tf.keras.layers.Masking(mask_value=0),\n",
        "    keras.layers.Conv2D(filters=50, kernel_size=(5, 5), activation='relu', kernel_regularizer=MyRegularizer(0.001),kernel_initializer=initializer, bias_initializer=bias_filler),\n",
        "    keras.layers.AveragePooling2D(),\n",
        "    keras.layers.Flatten(input_shape=[28, 28]),\n",
        "    #tf.keras.layers.Masking(mask_value=0.0),\n",
        "    keras.layers.Dense(500, activation='relu',kernel_initializer=initializer, bias_initializer=bias_filler),\n",
        "    #tf.keras.layers.Masking(mask_value=0.0),\n",
        "    keras.layers.Dense(10, activation=\"softmax\",kernel_initializer=initializer, bias_initializer=bias_filler)\n",
        "])"
      ],
      "execution_count": null,
      "outputs": []
    },
    {
      "cell_type": "code",
      "metadata": {
        "id": "iKWqtUInhQAj"
      },
      "source": [
        "penalize_model = keras.models.Sequential([\n",
        "    #tf.keras.layers.Masking(mask_value=0.0,input_shape=(28,28,1)),\n",
        "    keras.layers.Conv2D(filters=20, kernel_size=(5, 5), activation='relu', input_shape=(28,28,1), kernel_regularizer=Penalizing(0.001), kernel_initializer=initializer, bias_initializer=bias_filler),\n",
        "    keras.layers.AveragePooling2D(),\n",
        "    #tf.keras.layers.Masking(mask_value=0),\n",
        "    keras.layers.Conv2D(filters=50, kernel_size=(5, 5), activation='relu', kernel_regularizer=Penalizing(0.001),kernel_initializer=initializer, bias_initializer=bias_filler),\n",
        "    keras.layers.AveragePooling2D(),\n",
        "    keras.layers.Flatten(input_shape=[28, 28]),\n",
        "    #tf.keras.layers.Masking(mask_value=0.0),\n",
        "    keras.layers.Dense(500, activation='relu',kernel_initializer=initializer, bias_initializer=bias_filler),\n",
        "    #tf.keras.layers.Masking(mask_value=0.0),\n",
        "    keras.layers.Dense(10, activation=\"softmax\",kernel_initializer=initializer, bias_initializer=bias_filler)\n",
        "])"
      ],
      "execution_count": null,
      "outputs": []
    },
    {
      "cell_type": "code",
      "metadata": {
        "id": "c17dzdrBkQjU"
      },
      "source": [
        "filers_model = keras.models.Sequential([\n",
        "    #tf.keras.layers.Masking(mask_value=0.0,input_shape=(28,28,1)),\n",
        "    keras.layers.Conv2D(filters=20, kernel_size=(5, 5), activation='relu', input_shape=(28,28,1), kernel_regularizer=Learning_shapes(0.001), kernel_initializer=initializer, bias_initializer=bias_filler),\n",
        "    keras.layers.AveragePooling2D(),\n",
        "    #tf.keras.layers.Masking(mask_value=0),\n",
        "    keras.layers.Conv2D(filters=50, kernel_size=(5, 5), activation='relu', kernel_regularizer=Learning_shapes(0.001),kernel_initializer=initializer, bias_initializer=bias_filler),\n",
        "    keras.layers.AveragePooling2D(),\n",
        "    keras.layers.Flatten(input_shape=[28, 28]),\n",
        "    #tf.keras.layers.Masking(mask_value=0.0),\n",
        "    keras.layers.Dense(500, activation='relu',kernel_initializer=initializer, bias_initializer=bias_filler),\n",
        "    #tf.keras.layers.Masking(mask_value=0.0),\n",
        "    keras.layers.Dense(10, activation=\"softmax\",kernel_initializer=initializer, bias_initializer=bias_filler)\n",
        "])"
      ],
      "execution_count": null,
      "outputs": []
    },
    {
      "cell_type": "code",
      "metadata": {
        "id": "pSvvF6rD0TGY",
        "colab": {
          "base_uri": "https://localhost:8080/",
          "height": 391
        },
        "outputId": "a8c8fc8f-e033-4c93-b22a-5dea4e83439f"
      },
      "source": [
        "baseline_model.summary()"
      ],
      "execution_count": null,
      "outputs": [
        {
          "output_type": "stream",
          "text": [
            "Model: \"sequential_6\"\n",
            "_________________________________________________________________\n",
            "Layer (type)                 Output Shape              Param #   \n",
            "=================================================================\n",
            "conv2d_12 (Conv2D)           (None, 24, 24, 20)        520       \n",
            "_________________________________________________________________\n",
            "average_pooling2d_12 (Averag (None, 12, 12, 20)        0         \n",
            "_________________________________________________________________\n",
            "conv2d_13 (Conv2D)           (None, 8, 8, 50)          25050     \n",
            "_________________________________________________________________\n",
            "average_pooling2d_13 (Averag (None, 4, 4, 50)          0         \n",
            "_________________________________________________________________\n",
            "flatten_6 (Flatten)          (None, 800)               0         \n",
            "_________________________________________________________________\n",
            "dense_12 (Dense)             (None, 500)               400500    \n",
            "_________________________________________________________________\n",
            "dense_13 (Dense)             (None, 10)                5010      \n",
            "=================================================================\n",
            "Total params: 431,080\n",
            "Trainable params: 431,080\n",
            "Non-trainable params: 0\n",
            "_________________________________________________________________\n"
          ],
          "name": "stdout"
        }
      ]
    },
    {
      "cell_type": "code",
      "metadata": {
        "id": "SyHKizs88qFm"
      },
      "source": [
        "baseline_model.compile(loss=loss_fn, metrics=['accuracy'])\n",
        "\n",
        "hist=History()\n",
        "\n",
        "# a = np.array(model.get_layer(index=0).get_weights())         # save weights in a np.array of np.arrays\n",
        "# # # weights = model.get_layer(index=3).get_weights()\n",
        "\n",
        "# sparsified_weights = []\n",
        "# threshold = 10**-3\n",
        "\n",
        "# for w in a:\n",
        "#   bool_mask = (w > threshold).astype(int)\n",
        "#   sparsified_weights.append(w*bool_mask)\n",
        "\n",
        "# model.get_layer(index=0).set_weights(sparsified_weights)\n",
        "\n",
        "\n",
        "\n",
        "# #model.get_layer(index=3).set_weights(np.where(a > 1.3, a, 0))                  # add 1 to all weights in the neural network\n",
        "# #b = np.array(model.get_layer(index=3).get_weights())         # save weights a second time in a np.array of np.arrays\n",
        "#print(sparsified_weights - a) "
      ],
      "execution_count": null,
      "outputs": []
    },
    {
      "cell_type": "code",
      "metadata": {
        "id": "2XIdqhZ68tSz",
        "colab": {
          "base_uri": "https://localhost:8080/",
          "height": 544
        },
        "outputId": "cb3bd318-e705-4184-87e7-d83d0cd3912e"
      },
      "source": [
        "%timeit\n",
        "import time\n",
        "start_time = time.time()\n",
        "\n",
        "history = baseline_model.fit(X_train, y_train, epochs=n_epochs,  batch_size=64, validation_data=(X_valid, y_valid),callbacks=[hist])\n",
        "\n",
        "print(\"--- %s seconds ---\" % (time.time() - start_time))"
      ],
      "execution_count": null,
      "outputs": [
        {
          "output_type": "stream",
          "text": [
            "Epoch 1/15\n",
            "860/860 [==============================] - 3s 3ms/step - loss: 0.1644 - accuracy: 0.9491 - val_loss: 0.0732 - val_accuracy: 0.9804\n",
            "Epoch 2/15\n",
            "860/860 [==============================] - 3s 3ms/step - loss: 0.0490 - accuracy: 0.9847 - val_loss: 0.0421 - val_accuracy: 0.9892\n",
            "Epoch 3/15\n",
            "860/860 [==============================] - 3s 3ms/step - loss: 0.0349 - accuracy: 0.9894 - val_loss: 0.0405 - val_accuracy: 0.9886\n",
            "Epoch 4/15\n",
            "860/860 [==============================] - 3s 3ms/step - loss: 0.0263 - accuracy: 0.9917 - val_loss: 0.0296 - val_accuracy: 0.9912\n",
            "Epoch 5/15\n",
            "860/860 [==============================] - 3s 3ms/step - loss: 0.0211 - accuracy: 0.9932 - val_loss: 0.0304 - val_accuracy: 0.9902\n",
            "Epoch 6/15\n",
            "860/860 [==============================] - 3s 3ms/step - loss: 0.0177 - accuracy: 0.9947 - val_loss: 0.0320 - val_accuracy: 0.9928\n",
            "Epoch 7/15\n",
            "860/860 [==============================] - 3s 3ms/step - loss: 0.0141 - accuracy: 0.9958 - val_loss: 0.0367 - val_accuracy: 0.9912\n",
            "Epoch 8/15\n",
            "860/860 [==============================] - 3s 3ms/step - loss: 0.0131 - accuracy: 0.9962 - val_loss: 0.0343 - val_accuracy: 0.9914\n",
            "Epoch 9/15\n",
            "860/860 [==============================] - 3s 3ms/step - loss: 0.0107 - accuracy: 0.9971 - val_loss: 0.0434 - val_accuracy: 0.9912\n",
            "Epoch 10/15\n",
            "860/860 [==============================] - 3s 3ms/step - loss: 0.0097 - accuracy: 0.9973 - val_loss: 0.0399 - val_accuracy: 0.9916\n",
            "Epoch 11/15\n",
            "860/860 [==============================] - 3s 3ms/step - loss: 0.0079 - accuracy: 0.9976 - val_loss: 0.0348 - val_accuracy: 0.9916\n",
            "Epoch 12/15\n",
            "860/860 [==============================] - 3s 3ms/step - loss: 0.0077 - accuracy: 0.9977 - val_loss: 0.0402 - val_accuracy: 0.9926\n",
            "Epoch 13/15\n",
            "860/860 [==============================] - 3s 3ms/step - loss: 0.0066 - accuracy: 0.9981 - val_loss: 0.0375 - val_accuracy: 0.9918\n",
            "Epoch 14/15\n",
            "860/860 [==============================] - 3s 3ms/step - loss: 0.0062 - accuracy: 0.9981 - val_loss: 0.0536 - val_accuracy: 0.9890\n",
            "Epoch 15/15\n",
            "860/860 [==============================] - 3s 3ms/step - loss: 0.0055 - accuracy: 0.9984 - val_loss: 0.0336 - val_accuracy: 0.9934\n",
            "--- 40.3163697719574 seconds ---\n"
          ],
          "name": "stdout"
        }
      ]
    },
    {
      "cell_type": "code",
      "metadata": {
        "id": "_eKZhLWLEqjD",
        "colab": {
          "base_uri": "https://localhost:8080/",
          "height": 51
        },
        "outputId": "fd51559f-085c-4e10-8ccb-1490a5034184"
      },
      "source": [
        "model.evaluate(X_test, y_test)"
      ],
      "execution_count": null,
      "outputs": [
        {
          "output_type": "stream",
          "text": [
            "313/313 [==============================] - 1s 2ms/step - loss: 0.0514 - accuracy: 0.9900\n"
          ],
          "name": "stdout"
        },
        {
          "output_type": "execute_result",
          "data": {
            "text/plain": [
              "[0.05140416696667671, 0.9900000095367432]"
            ]
          },
          "metadata": {
            "tags": []
          },
          "execution_count": 54
        }
      ]
    },
    {
      "cell_type": "markdown",
      "metadata": {
        "id": "GM_TITtkX2cc"
      },
      "source": [
        "### Analysis"
      ]
    },
    {
      "cell_type": "code",
      "metadata": {
        "id": "cftDivaxdff8",
        "colab": {
          "base_uri": "https://localhost:8080/",
          "height": 85
        },
        "outputId": "29611d1e-3d72-44d5-9e53-aabac1310c3a"
      },
      "source": [
        "for layer in baseline_model.layers:\n",
        "\t# check for convolutional layer\n",
        "\tif 'average' in layer.name:\n",
        "\t\tcontinue\n",
        "\telif 'flatten' in layer.name:\n",
        "\t\tcontinue\n",
        "\telif 'masking' in layer.name:\n",
        "\t\tcontinue\n",
        "\t# get filter weights\n",
        "\tfilters, biases = layer.get_weights()\n",
        "\tprint(layer.name, filters.shape)"
      ],
      "execution_count": null,
      "outputs": [
        {
          "output_type": "stream",
          "text": [
            "conv2d (5, 5, 1, 20)\n",
            "conv2d_1 (5, 5, 20, 50)\n",
            "dense (800, 500)\n",
            "dense_1 (500, 10)\n"
          ],
          "name": "stdout"
        }
      ]
    },
    {
      "cell_type": "code",
      "metadata": {
        "id": "opgGo3XnaJgc"
      },
      "source": [
        "def plot_neurons(models_list,names_list):\n",
        "    for n, model in enumerate (models_list):\n",
        "    # summarize history for accuracy\n",
        "       # plt.plot(model.history.history['accuracy'])\n",
        "        plt.plot(model)\n",
        "        plt.title( names_list[n])\n",
        "        plt.ylabel('Active neurons')\n",
        "        plt.xlabel('Epoch')\n",
        "    plt.legend([names_list[n-3],names_list[n-2],names_list[n-1],names_list[n]], loc='upper left')\n",
        "    plt.show()\n",
        "\n"
      ],
      "execution_count": null,
      "outputs": []
    },
    {
      "cell_type": "code",
      "metadata": {
        "id": "Nx0aSJWEF5fp",
        "colab": {
          "base_uri": "https://localhost:8080/",
          "height": 295
        },
        "outputId": "c33a3bbe-a103-4dad-8841-443f0feb08ba"
      },
      "source": [
        "plot_neurons([hist_l2, gl_hist, penalize_hist,fibers_hist],['L2_reg','GLasso_reg','Penalizing','Shape_filers'])"
      ],
      "execution_count": null,
      "outputs": [
        {
          "output_type": "display_data",
          "data": {
            "image/png": "[encoded data removed]",
            "text/plain": [
              "<Figure size 432x288 with 1 Axes>"
            ]
          },
          "metadata": {
            "tags": [],
            "needs_background": "light"
          }
        }
      ]
    },
    {
      "cell_type": "code",
      "metadata": {
        "id": "KMdih_PfMhtT"
      },
      "source": [
        "#for n, model in enumerate(gl_model):\n",
        "models_list=[baseline_model,l2_model,gl_model,penalize_model,filers_model]\n",
        "#models_list=[gl_model]\n",
        "\n",
        "names_list=['Baseline','L2','Glasso','FC','Filers']\n",
        "#names_list=['glasso_reg']\n",
        "\n",
        "\n",
        "def print_filters(model_list,names_list):\n",
        "    for n,model in enumerate(models_list):\n",
        "\n",
        "      filters = model.get_layer(index=2).get_weights()[0]\n",
        "      fig = plt.figure(figsize=(26,8),facecolor='black')\n",
        "      n_filters,ix=model.get_layer(index=0).get_weights()[0].shape[3],1\n",
        "      \n",
        "\n",
        "      for number in range(n_filters):\n",
        "          f=filters[:,:,:,number]\n",
        "          ax1 = fig.add_subplot(8,16,number+1)\n",
        "          plt.title( names_list[n],color='white')\n",
        "          ax1.imshow(f[:,:,0],cmap='gray')\n",
        "          ax1.axis('off')\n",
        "          plt.subplots_adjust(wspace=0.3, hspace=0.1,top=1.3)\n",
        "    \n",
        "    plt.show()"
      ],
      "execution_count": null,
      "outputs": []
    },
    {
      "cell_type": "code",
      "metadata": {
        "id": "3dbPChSt1ayr",
        "colab": {
          "base_uri": "https://localhost:8080/",
          "height": 947
        },
        "outputId": "d358b6e4-74ae-4d1b-ce8d-9ae4abbe6794"
      },
      "source": [
        "print_filters(models_list,names_list)"
      ],
      "execution_count": null,
      "outputs": [
        {
          "output_type": "display_data",
          "data": {
            "image/png": "[encoded data removed]",
            "text/plain": [
              "<Figure size 1872x576 with 20 Axes>"
            ]
          },
          "metadata": {
            "tags": []
          }
        },
        {
          "output_type": "display_data",
          "data": {
            "image/png": "[encoded data removed]",
            "text/plain": [
              "<Figure size 1872x576 with 20 Axes>"
            ]
          },
          "metadata": {
            "tags": []
          }
        },
        {
          "output_type": "display_data",
          "data": {
            "image/png": "[encoded data removed]",
            "text/plain": [
              "<Figure size 1872x576 with 20 Axes>"
            ]
          },
          "metadata": {
            "tags": []
          }
        },
        {
          "output_type": "display_data",
          "data": {
            "image/png": "[encoded data removed]",
            "text/plain": [
              "<Figure size 1872x576 with 20 Axes>"
            ]
          },
          "metadata": {
            "tags": []
          }
        },
        {
          "output_type": "display_data",
          "data": {
            "image/png": "[encoded data removed]",
            "text/plain": [
              "<Figure size 1872x576 with 20 Axes>"
            ]
          },
          "metadata": {
            "tags": []
          }
        }
      ]
    },
    {
      "cell_type": "markdown",
      "metadata": {
        "id": "xrqYLx-BZJLI"
      },
      "source": [
        "Execution Times with different regularization:\n",
        "\n",
        "\n",
        "\n",
        "\n",
        "1.   BASELINE: 40.31 secs\n",
        "2.   L2: 42.022 secs\n",
        "1.   Group Lasso: 48.65 secs\n",
        "2.   Penalizing FC: 50.54 secs\n",
        "2.   Shape Filers: 47.65 secs\n",
        "\n",
        "\n",
        "\n",
        "\n",
        "\n"
      ]
    },
    {
      "cell_type": "code",
      "metadata": {
        "id": "OlLyW4PcT2mY"
      },
      "source": [
        ""
      ],
      "execution_count": null,
      "outputs": []
    }
  ]
}